{
 "cells": [
  {
   "cell_type": "code",
   "execution_count": null,
   "id": "89aa6b2b-0ce1-428a-8de8-7311268059a4",
   "metadata": {},
   "outputs": [],
   "source": []
  },
  {
   "cell_type": "code",
   "execution_count": 47,
   "id": "b1f4bbdd-3572-4761-91c4-77ade9a96d7b",
   "metadata": {},
   "outputs": [],
   "source": [
    "import numpy as np\n",
    "import scipy.stats as stats # for smallest sample size\n",
    "import statsmodels.stats.api as sms # for power\n",
    "import matplotlib as mpl\n",
    "import matplotlib.pyplot as plt"
   ]
  },
  {
   "cell_type": "code",
   "execution_count": 2,
   "id": "40784aa3-6f7c-451a-9f07-5f4e4aae0fda",
   "metadata": {},
   "outputs": [],
   "source": [
    "import pandas as pd"
   ]
  },
  {
   "cell_type": "markdown",
   "id": "16adea65-9d2a-4c8a-9571-46aafccb643b",
   "metadata": {
    "jp-MarkdownHeadingCollapsed": true
   },
   "source": [
    "# Backgroud"
   ]
  },
  {
   "cell_type": "code",
   "execution_count": null,
   "id": "9628865a-bac4-4b8e-b322-ffe2e2142878",
   "metadata": {},
   "outputs": [],
   "source": [
    "# For this project, you will be working to understand the results of an A/B test run by an e-commerce website. The company has developed a new web page in order to try and increase the number of users who \"convert,\" meaning the number of users who decide to pay for the company's product. Your goal is to work through this notebook to help the company understand if they should implement this new page, keep the old page, or perhaps run the experiment longer to make their decision."
   ]
  },
  {
   "cell_type": "code",
   "execution_count": null,
   "id": "44920424-ef66-4d87-aeb5-17987208c1e0",
   "metadata": {},
   "outputs": [],
   "source": [
    "# objective: \n",
    "# improve the conversion rate from 13% to 15%"
   ]
  },
  {
   "cell_type": "markdown",
   "id": "269c7d60-9b45-4778-af93-aeac44afd4cd",
   "metadata": {
    "jp-MarkdownHeadingCollapsed": true
   },
   "source": [
    "# A/B Testing Design"
   ]
  },
  {
   "cell_type": "markdown",
   "id": "9f1ca2fd-3a9a-4836-beeb-7b979dd28ff6",
   "metadata": {},
   "source": [
    "1 Hypothesis\n",
    "H0: These is no different between old page and new page for conversion"
   ]
  },
  {
   "cell_type": "markdown",
   "id": "05c02e26-262f-4c4c-b1ef-9b2f57863e7a",
   "metadata": {},
   "source": [
    "2 Grouping\n",
    "countrl: old page\n",
    "treatment: new page"
   ]
  },
  {
   "cell_type": "markdown",
   "id": "bd6ee9fa-0e00-49a0-9c82-984e9669865e",
   "metadata": {},
   "source": [
    "3 calculate sample size, period"
   ]
  },
  {
   "cell_type": "code",
   "execution_count": null,
   "id": "4b9aca0b-c8d5-468c-b3a1-18a6722a92d3",
   "metadata": {},
   "outputs": [],
   "source": [
    "# calculate the smallest sample size"
   ]
  },
  {
   "cell_type": "code",
   "execution_count": 52,
   "id": "71b40f1e-fbc2-4449-8e28-ce6f2aae709f",
   "metadata": {},
   "outputs": [],
   "source": [
    "# calculate the effect_size in terms of original rate, expected rate.\n",
    "effect_size = sms.proportion_effectsize(0.13, 0.15)"
   ]
  },
  {
   "cell_type": "code",
   "execution_count": 56,
   "id": "57737c6c-1109-4b04-9020-94566bc2b036",
   "metadata": {},
   "outputs": [],
   "source": [
    "# required smallest sample size calculation\n",
    "sample_size = sms.NormalIndPower().solve_power(\n",
    "    effect_size,\n",
    "    alpha=0.05,\n",
    "    power=0.8,\n",
    "    ratio=1,\n",
    ")"
   ]
  },
  {
   "cell_type": "code",
   "execution_count": 58,
   "id": "3ba6a9fc-2955-41e1-bbfb-e6780960f67b",
   "metadata": {},
   "outputs": [
    {
     "data": {
      "text/plain": [
       "4720.0"
      ]
     },
     "execution_count": 58,
     "metadata": {},
     "output_type": "execute_result"
    }
   ],
   "source": [
    "sample_size = np.ceil(sample_size)\n",
    "sample_size"
   ]
  },
  {
   "cell_type": "code",
   "execution_count": 59,
   "id": "ef3294fe-b8a1-43eb-a99d-8327f1c39ee0",
   "metadata": {},
   "outputs": [
    {
     "data": {
      "text/plain": [
       "9.44"
      ]
     },
     "execution_count": 59,
     "metadata": {},
     "output_type": "execute_result"
    }
   ],
   "source": [
    "# A/B testing period calculation\n",
    "# assume: \n",
    "avg_PV = 1000 # per day\n",
    "# then:\n",
    "period = sample_size * 2 / avg_PV\n",
    "period"
   ]
  },
  {
   "cell_type": "markdown",
   "id": "4b7c6487-ae40-4cd7-8067-06d31d204659",
   "metadata": {
    "jp-MarkdownHeadingCollapsed": true
   },
   "source": [
    "# Data Collection"
   ]
  },
  {
   "cell_type": "code",
   "execution_count": null,
   "id": "9ff7160c-fbd3-4184-bcce-3f469d170591",
   "metadata": {},
   "outputs": [],
   "source": [
    "# (A lot of companies use mature AB testing platform for atream partation)"
   ]
  },
  {
   "cell_type": "code",
   "execution_count": 4,
   "id": "6ff74cad-03cd-4838-9e4b-87e0805d12b3",
   "metadata": {},
   "outputs": [],
   "source": [
    "df = pd.read_csv('/Users/rain/Documents/数分第2期/AB Testing/ab_data.csv')"
   ]
  },
  {
   "cell_type": "code",
   "execution_count": 5,
   "id": "acec2ded-e850-4b80-8bab-5717dae7fee3",
   "metadata": {},
   "outputs": [
    {
     "data": {
      "text/html": [
       "<div>\n",
       "<style scoped>\n",
       "    .dataframe tbody tr th:only-of-type {\n",
       "        vertical-align: middle;\n",
       "    }\n",
       "\n",
       "    .dataframe tbody tr th {\n",
       "        vertical-align: top;\n",
       "    }\n",
       "\n",
       "    .dataframe thead th {\n",
       "        text-align: right;\n",
       "    }\n",
       "</style>\n",
       "<table border=\"1\" class=\"dataframe\">\n",
       "  <thead>\n",
       "    <tr style=\"text-align: right;\">\n",
       "      <th></th>\n",
       "      <th>user_id</th>\n",
       "      <th>timestamp</th>\n",
       "      <th>group</th>\n",
       "      <th>landing_page</th>\n",
       "      <th>converted</th>\n",
       "    </tr>\n",
       "  </thead>\n",
       "  <tbody>\n",
       "    <tr>\n",
       "      <th>0</th>\n",
       "      <td>851104</td>\n",
       "      <td>11:48.6</td>\n",
       "      <td>control</td>\n",
       "      <td>old_page</td>\n",
       "      <td>0</td>\n",
       "    </tr>\n",
       "    <tr>\n",
       "      <th>1</th>\n",
       "      <td>804228</td>\n",
       "      <td>01:45.2</td>\n",
       "      <td>control</td>\n",
       "      <td>old_page</td>\n",
       "      <td>0</td>\n",
       "    </tr>\n",
       "    <tr>\n",
       "      <th>2</th>\n",
       "      <td>661590</td>\n",
       "      <td>55:06.2</td>\n",
       "      <td>treatment</td>\n",
       "      <td>new_page</td>\n",
       "      <td>0</td>\n",
       "    </tr>\n",
       "    <tr>\n",
       "      <th>3</th>\n",
       "      <td>853541</td>\n",
       "      <td>28:03.1</td>\n",
       "      <td>treatment</td>\n",
       "      <td>new_page</td>\n",
       "      <td>0</td>\n",
       "    </tr>\n",
       "    <tr>\n",
       "      <th>4</th>\n",
       "      <td>864975</td>\n",
       "      <td>52:26.2</td>\n",
       "      <td>control</td>\n",
       "      <td>old_page</td>\n",
       "      <td>1</td>\n",
       "    </tr>\n",
       "  </tbody>\n",
       "</table>\n",
       "</div>"
      ],
      "text/plain": [
       "   user_id timestamp      group landing_page  converted\n",
       "0   851104   11:48.6    control     old_page          0\n",
       "1   804228   01:45.2    control     old_page          0\n",
       "2   661590   55:06.2  treatment     new_page          0\n",
       "3   853541   28:03.1  treatment     new_page          0\n",
       "4   864975   52:26.2    control     old_page          1"
      ]
     },
     "execution_count": 5,
     "metadata": {},
     "output_type": "execute_result"
    }
   ],
   "source": [
    "df.head()"
   ]
  },
  {
   "cell_type": "code",
   "execution_count": 6,
   "id": "039aa8af-ebb1-4ac6-acf7-1cdfd8ae26b3",
   "metadata": {},
   "outputs": [
    {
     "name": "stdout",
     "output_type": "stream",
     "text": [
      "<class 'pandas.core.frame.DataFrame'>\n",
      "RangeIndex: 294480 entries, 0 to 294479\n",
      "Data columns (total 5 columns):\n",
      " #   Column        Non-Null Count   Dtype \n",
      "---  ------        --------------   ----- \n",
      " 0   user_id       294480 non-null  int64 \n",
      " 1   timestamp     294480 non-null  object\n",
      " 2   group         294480 non-null  object\n",
      " 3   landing_page  294480 non-null  object\n",
      " 4   converted     294480 non-null  int64 \n",
      "dtypes: int64(2), object(3)\n",
      "memory usage: 11.2+ MB\n"
     ]
    }
   ],
   "source": [
    "df.info()"
   ]
  },
  {
   "cell_type": "code",
   "execution_count": 7,
   "id": "e569d059-165a-488d-be83-3117744e2a3e",
   "metadata": {},
   "outputs": [
    {
     "data": {
      "text/plain": [
       "treatment    147278\n",
       "control      147202\n",
       "Name: group, dtype: int64"
      ]
     },
     "execution_count": 7,
     "metadata": {},
     "output_type": "execute_result"
    }
   ],
   "source": [
    "df[\"group\"].value_counts()"
   ]
  },
  {
   "cell_type": "code",
   "execution_count": 8,
   "id": "a8f74021-cf03-4a15-8277-927d16e772ca",
   "metadata": {},
   "outputs": [],
   "source": [
    "country_data = pd.read_csv('/Users/rain/Documents/数分第2期/AB Testing/countries.csv')"
   ]
  },
  {
   "cell_type": "code",
   "execution_count": 9,
   "id": "a87b59ad-ad82-403f-8ddd-6ba903d1cef3",
   "metadata": {},
   "outputs": [
    {
     "data": {
      "text/html": [
       "<div>\n",
       "<style scoped>\n",
       "    .dataframe tbody tr th:only-of-type {\n",
       "        vertical-align: middle;\n",
       "    }\n",
       "\n",
       "    .dataframe tbody tr th {\n",
       "        vertical-align: top;\n",
       "    }\n",
       "\n",
       "    .dataframe thead th {\n",
       "        text-align: right;\n",
       "    }\n",
       "</style>\n",
       "<table border=\"1\" class=\"dataframe\">\n",
       "  <thead>\n",
       "    <tr style=\"text-align: right;\">\n",
       "      <th></th>\n",
       "      <th>user_id</th>\n",
       "      <th>country</th>\n",
       "    </tr>\n",
       "  </thead>\n",
       "  <tbody>\n",
       "    <tr>\n",
       "      <th>0</th>\n",
       "      <td>834778</td>\n",
       "      <td>UK</td>\n",
       "    </tr>\n",
       "    <tr>\n",
       "      <th>1</th>\n",
       "      <td>928468</td>\n",
       "      <td>US</td>\n",
       "    </tr>\n",
       "    <tr>\n",
       "      <th>2</th>\n",
       "      <td>822059</td>\n",
       "      <td>UK</td>\n",
       "    </tr>\n",
       "    <tr>\n",
       "      <th>3</th>\n",
       "      <td>711597</td>\n",
       "      <td>UK</td>\n",
       "    </tr>\n",
       "    <tr>\n",
       "      <th>4</th>\n",
       "      <td>710616</td>\n",
       "      <td>UK</td>\n",
       "    </tr>\n",
       "  </tbody>\n",
       "</table>\n",
       "</div>"
      ],
      "text/plain": [
       "   user_id country\n",
       "0   834778      UK\n",
       "1   928468      US\n",
       "2   822059      UK\n",
       "3   711597      UK\n",
       "4   710616      UK"
      ]
     },
     "execution_count": 9,
     "metadata": {},
     "output_type": "execute_result"
    }
   ],
   "source": [
    "country_data.head()"
   ]
  },
  {
   "cell_type": "markdown",
   "id": "3a46c772-49b7-4768-a316-b07ef6b7d339",
   "metadata": {},
   "source": [
    "# Data Cleaning"
   ]
  },
  {
   "cell_type": "code",
   "execution_count": 10,
   "id": "b604e183-77b6-41bb-9bd1-c27ce5962937",
   "metadata": {},
   "outputs": [
    {
     "data": {
      "text/plain": [
       "user_id         0\n",
       "timestamp       0\n",
       "group           0\n",
       "landing_page    0\n",
       "converted       0\n",
       "dtype: int64"
      ]
     },
     "execution_count": 10,
     "metadata": {},
     "output_type": "execute_result"
    }
   ],
   "source": [
    "# missing value\n",
    "df.isnull().sum()"
   ]
  },
  {
   "cell_type": "code",
   "execution_count": 11,
   "id": "2bca8cce-ef7d-49f2-8930-40408b31de3f",
   "metadata": {},
   "outputs": [
    {
     "data": {
      "text/plain": [
       "0"
      ]
     },
     "execution_count": 11,
     "metadata": {},
     "output_type": "execute_result"
    }
   ],
   "source": [
    "# duplicated for the dataset\n",
    "df.duplicated().sum()"
   ]
  },
  {
   "cell_type": "code",
   "execution_count": 12,
   "id": "880411af-03d7-4f54-b9f8-40a1faa59222",
   "metadata": {},
   "outputs": [
    {
     "data": {
      "text/plain": [
       "3895"
      ]
     },
     "execution_count": 12,
     "metadata": {},
     "output_type": "execute_result"
    }
   ],
   "source": [
    "# duplicated for identifier, user_id\n",
    "df[\"user_id\"].duplicated().sum()"
   ]
  },
  {
   "cell_type": "code",
   "execution_count": 13,
   "id": "db42df24-0462-40fa-a649-8e704ed481f3",
   "metadata": {},
   "outputs": [
    {
     "data": {
      "text/html": [
       "<div>\n",
       "<style scoped>\n",
       "    .dataframe tbody tr th:only-of-type {\n",
       "        vertical-align: middle;\n",
       "    }\n",
       "\n",
       "    .dataframe tbody tr th {\n",
       "        vertical-align: top;\n",
       "    }\n",
       "\n",
       "    .dataframe thead th {\n",
       "        text-align: right;\n",
       "    }\n",
       "</style>\n",
       "<table border=\"1\" class=\"dataframe\">\n",
       "  <thead>\n",
       "    <tr style=\"text-align: right;\">\n",
       "      <th></th>\n",
       "      <th>user_id</th>\n",
       "      <th>timestamp</th>\n",
       "      <th>group</th>\n",
       "      <th>landing_page</th>\n",
       "      <th>converted</th>\n",
       "    </tr>\n",
       "  </thead>\n",
       "  <tbody>\n",
       "    <tr>\n",
       "      <th>2656</th>\n",
       "      <td>698120</td>\n",
       "      <td>13:42.6</td>\n",
       "      <td>control</td>\n",
       "      <td>old_page</td>\n",
       "      <td>0</td>\n",
       "    </tr>\n",
       "    <tr>\n",
       "      <th>2893</th>\n",
       "      <td>773192</td>\n",
       "      <td>55:59.6</td>\n",
       "      <td>treatment</td>\n",
       "      <td>new_page</td>\n",
       "      <td>0</td>\n",
       "    </tr>\n",
       "    <tr>\n",
       "      <th>7500</th>\n",
       "      <td>899953</td>\n",
       "      <td>06:54.1</td>\n",
       "      <td>control</td>\n",
       "      <td>new_page</td>\n",
       "      <td>0</td>\n",
       "    </tr>\n",
       "    <tr>\n",
       "      <th>8036</th>\n",
       "      <td>790934</td>\n",
       "      <td>32:20.3</td>\n",
       "      <td>treatment</td>\n",
       "      <td>new_page</td>\n",
       "      <td>0</td>\n",
       "    </tr>\n",
       "    <tr>\n",
       "      <th>10218</th>\n",
       "      <td>633793</td>\n",
       "      <td>16:00.7</td>\n",
       "      <td>treatment</td>\n",
       "      <td>old_page</td>\n",
       "      <td>0</td>\n",
       "    </tr>\n",
       "    <tr>\n",
       "      <th>...</th>\n",
       "      <td>...</td>\n",
       "      <td>...</td>\n",
       "      <td>...</td>\n",
       "      <td>...</td>\n",
       "      <td>...</td>\n",
       "    </tr>\n",
       "    <tr>\n",
       "      <th>294309</th>\n",
       "      <td>787083</td>\n",
       "      <td>15:21.0</td>\n",
       "      <td>control</td>\n",
       "      <td>old_page</td>\n",
       "      <td>0</td>\n",
       "    </tr>\n",
       "    <tr>\n",
       "      <th>294328</th>\n",
       "      <td>641570</td>\n",
       "      <td>59:27.7</td>\n",
       "      <td>control</td>\n",
       "      <td>old_page</td>\n",
       "      <td>0</td>\n",
       "    </tr>\n",
       "    <tr>\n",
       "      <th>294331</th>\n",
       "      <td>689637</td>\n",
       "      <td>34:28.3</td>\n",
       "      <td>control</td>\n",
       "      <td>new_page</td>\n",
       "      <td>0</td>\n",
       "    </tr>\n",
       "    <tr>\n",
       "      <th>294355</th>\n",
       "      <td>744456</td>\n",
       "      <td>32:07.1</td>\n",
       "      <td>treatment</td>\n",
       "      <td>new_page</td>\n",
       "      <td>0</td>\n",
       "    </tr>\n",
       "    <tr>\n",
       "      <th>294478</th>\n",
       "      <td>759899</td>\n",
       "      <td>20:29.0</td>\n",
       "      <td>treatment</td>\n",
       "      <td>new_page</td>\n",
       "      <td>0</td>\n",
       "    </tr>\n",
       "  </tbody>\n",
       "</table>\n",
       "<p>3895 rows × 5 columns</p>\n",
       "</div>"
      ],
      "text/plain": [
       "        user_id timestamp      group landing_page  converted\n",
       "2656     698120   13:42.6    control     old_page          0\n",
       "2893     773192   55:59.6  treatment     new_page          0\n",
       "7500     899953   06:54.1    control     new_page          0\n",
       "8036     790934   32:20.3  treatment     new_page          0\n",
       "10218    633793   16:00.7  treatment     old_page          0\n",
       "...         ...       ...        ...          ...        ...\n",
       "294309   787083   15:21.0    control     old_page          0\n",
       "294328   641570   59:27.7    control     old_page          0\n",
       "294331   689637   34:28.3    control     new_page          0\n",
       "294355   744456   32:07.1  treatment     new_page          0\n",
       "294478   759899   20:29.0  treatment     new_page          0\n",
       "\n",
       "[3895 rows x 5 columns]"
      ]
     },
     "execution_count": 13,
     "metadata": {},
     "output_type": "execute_result"
    }
   ],
   "source": [
    "# get the duplicated user_id\n",
    "df[df[\"user_id\"].duplicated()]"
   ]
  },
  {
   "cell_type": "code",
   "execution_count": 14,
   "id": "6033392c-d3bb-48d1-895f-203c81e7643a",
   "metadata": {},
   "outputs": [
    {
     "data": {
      "text/html": [
       "<div>\n",
       "<style scoped>\n",
       "    .dataframe tbody tr th:only-of-type {\n",
       "        vertical-align: middle;\n",
       "    }\n",
       "\n",
       "    .dataframe tbody tr th {\n",
       "        vertical-align: top;\n",
       "    }\n",
       "\n",
       "    .dataframe thead th {\n",
       "        text-align: right;\n",
       "    }\n",
       "</style>\n",
       "<table border=\"1\" class=\"dataframe\">\n",
       "  <thead>\n",
       "    <tr style=\"text-align: right;\">\n",
       "      <th></th>\n",
       "      <th>user_id</th>\n",
       "      <th>timestamp</th>\n",
       "      <th>group</th>\n",
       "      <th>landing_page</th>\n",
       "      <th>converted</th>\n",
       "    </tr>\n",
       "  </thead>\n",
       "  <tbody>\n",
       "    <tr>\n",
       "      <th>988</th>\n",
       "      <td>698120</td>\n",
       "      <td>09:37.5</td>\n",
       "      <td>control</td>\n",
       "      <td>new_page</td>\n",
       "      <td>0</td>\n",
       "    </tr>\n",
       "    <tr>\n",
       "      <th>2656</th>\n",
       "      <td>698120</td>\n",
       "      <td>13:42.6</td>\n",
       "      <td>control</td>\n",
       "      <td>old_page</td>\n",
       "      <td>0</td>\n",
       "    </tr>\n",
       "  </tbody>\n",
       "</table>\n",
       "</div>"
      ],
      "text/plain": [
       "      user_id timestamp    group landing_page  converted\n",
       "988    698120   09:37.5  control     new_page          0\n",
       "2656   698120   13:42.6  control     old_page          0"
      ]
     },
     "execution_count": 14,
     "metadata": {},
     "output_type": "execute_result"
    }
   ],
   "source": [
    "# look at one duplicated user_id\n",
    "df[df[\"user_id\"]==698120]"
   ]
  },
  {
   "cell_type": "code",
   "execution_count": 15,
   "id": "893c6826-b0a1-4006-a861-412fd55cc8b2",
   "metadata": {},
   "outputs": [],
   "source": [
    "# extract all duplicated user_id\n",
    "dup_id = df[df[\"user_id\"].duplicated()][\"user_id\"]"
   ]
  },
  {
   "cell_type": "code",
   "execution_count": 16,
   "id": "1267fb62-498e-4d9e-a553-9dec68f94d72",
   "metadata": {},
   "outputs": [
    {
     "data": {
      "text/plain": [
       "2656      698120\n",
       "2893      773192\n",
       "7500      899953\n",
       "8036      790934\n",
       "10218     633793\n",
       "           ...  \n",
       "294309    787083\n",
       "294328    641570\n",
       "294331    689637\n",
       "294355    744456\n",
       "294478    759899\n",
       "Name: user_id, Length: 3895, dtype: int64"
      ]
     },
     "execution_count": 16,
     "metadata": {},
     "output_type": "execute_result"
    }
   ],
   "source": [
    "dup_id"
   ]
  },
  {
   "cell_type": "code",
   "execution_count": 17,
   "id": "95c58acf-db94-48ef-b70e-8fcd88e0f366",
   "metadata": {},
   "outputs": [
    {
     "data": {
      "text/plain": [
       "0         False\n",
       "1         False\n",
       "2         False\n",
       "3         False\n",
       "4         False\n",
       "          ...  \n",
       "294475    False\n",
       "294476    False\n",
       "294477    False\n",
       "294478     True\n",
       "294479    False\n",
       "Name: user_id, Length: 294480, dtype: bool"
      ]
     },
     "execution_count": 17,
     "metadata": {},
     "output_type": "execute_result"
    }
   ],
   "source": [
    "df[\"user_id\"].isin(dup_id)"
   ]
  },
  {
   "cell_type": "code",
   "execution_count": 18,
   "id": "4c341638-e31c-4ad8-be5a-d1a4eee029c8",
   "metadata": {},
   "outputs": [
    {
     "data": {
      "text/html": [
       "<div>\n",
       "<style scoped>\n",
       "    .dataframe tbody tr th:only-of-type {\n",
       "        vertical-align: middle;\n",
       "    }\n",
       "\n",
       "    .dataframe tbody tr th {\n",
       "        vertical-align: top;\n",
       "    }\n",
       "\n",
       "    .dataframe thead th {\n",
       "        text-align: right;\n",
       "    }\n",
       "</style>\n",
       "<table border=\"1\" class=\"dataframe\">\n",
       "  <thead>\n",
       "    <tr style=\"text-align: right;\">\n",
       "      <th></th>\n",
       "      <th>user_id</th>\n",
       "      <th>timestamp</th>\n",
       "      <th>group</th>\n",
       "      <th>landing_page</th>\n",
       "      <th>converted</th>\n",
       "    </tr>\n",
       "  </thead>\n",
       "  <tbody>\n",
       "    <tr>\n",
       "      <th>0</th>\n",
       "      <td>851104</td>\n",
       "      <td>11:48.6</td>\n",
       "      <td>control</td>\n",
       "      <td>old_page</td>\n",
       "      <td>0</td>\n",
       "    </tr>\n",
       "    <tr>\n",
       "      <th>1</th>\n",
       "      <td>804228</td>\n",
       "      <td>01:45.2</td>\n",
       "      <td>control</td>\n",
       "      <td>old_page</td>\n",
       "      <td>0</td>\n",
       "    </tr>\n",
       "    <tr>\n",
       "      <th>2</th>\n",
       "      <td>661590</td>\n",
       "      <td>55:06.2</td>\n",
       "      <td>treatment</td>\n",
       "      <td>new_page</td>\n",
       "      <td>0</td>\n",
       "    </tr>\n",
       "    <tr>\n",
       "      <th>3</th>\n",
       "      <td>853541</td>\n",
       "      <td>28:03.1</td>\n",
       "      <td>treatment</td>\n",
       "      <td>new_page</td>\n",
       "      <td>0</td>\n",
       "    </tr>\n",
       "    <tr>\n",
       "      <th>4</th>\n",
       "      <td>864975</td>\n",
       "      <td>52:26.2</td>\n",
       "      <td>control</td>\n",
       "      <td>old_page</td>\n",
       "      <td>1</td>\n",
       "    </tr>\n",
       "    <tr>\n",
       "      <th>...</th>\n",
       "      <td>...</td>\n",
       "      <td>...</td>\n",
       "      <td>...</td>\n",
       "      <td>...</td>\n",
       "      <td>...</td>\n",
       "    </tr>\n",
       "    <tr>\n",
       "      <th>294474</th>\n",
       "      <td>945152</td>\n",
       "      <td>51:57.1</td>\n",
       "      <td>control</td>\n",
       "      <td>old_page</td>\n",
       "      <td>0</td>\n",
       "    </tr>\n",
       "    <tr>\n",
       "      <th>294475</th>\n",
       "      <td>734608</td>\n",
       "      <td>45:03.4</td>\n",
       "      <td>control</td>\n",
       "      <td>old_page</td>\n",
       "      <td>0</td>\n",
       "    </tr>\n",
       "    <tr>\n",
       "      <th>294476</th>\n",
       "      <td>697314</td>\n",
       "      <td>20:29.0</td>\n",
       "      <td>control</td>\n",
       "      <td>old_page</td>\n",
       "      <td>0</td>\n",
       "    </tr>\n",
       "    <tr>\n",
       "      <th>294477</th>\n",
       "      <td>715931</td>\n",
       "      <td>40:24.5</td>\n",
       "      <td>treatment</td>\n",
       "      <td>new_page</td>\n",
       "      <td>0</td>\n",
       "    </tr>\n",
       "    <tr>\n",
       "      <th>294479</th>\n",
       "      <td>643532</td>\n",
       "      <td>40:24.5</td>\n",
       "      <td>treatment</td>\n",
       "      <td>new_page</td>\n",
       "      <td>0</td>\n",
       "    </tr>\n",
       "  </tbody>\n",
       "</table>\n",
       "<p>286690 rows × 5 columns</p>\n",
       "</div>"
      ],
      "text/plain": [
       "        user_id timestamp      group landing_page  converted\n",
       "0        851104   11:48.6    control     old_page          0\n",
       "1        804228   01:45.2    control     old_page          0\n",
       "2        661590   55:06.2  treatment     new_page          0\n",
       "3        853541   28:03.1  treatment     new_page          0\n",
       "4        864975   52:26.2    control     old_page          1\n",
       "...         ...       ...        ...          ...        ...\n",
       "294474   945152   51:57.1    control     old_page          0\n",
       "294475   734608   45:03.4    control     old_page          0\n",
       "294476   697314   20:29.0    control     old_page          0\n",
       "294477   715931   40:24.5  treatment     new_page          0\n",
       "294479   643532   40:24.5  treatment     new_page          0\n",
       "\n",
       "[286690 rows x 5 columns]"
      ]
     },
     "execution_count": 18,
     "metadata": {},
     "output_type": "execute_result"
    }
   ],
   "source": [
    "# delete all dup_id \n",
    "df_clean = df[~df[\"user_id\"].isin(dup_id)]\n",
    "df_clean"
   ]
  },
  {
   "cell_type": "code",
   "execution_count": 19,
   "id": "b343521e-fbd4-45b9-bad1-ec79784f03c7",
   "metadata": {},
   "outputs": [
    {
     "data": {
      "text/plain": [
       "0        1900-01-01 00:11:48.600\n",
       "1        1900-01-01 00:01:45.200\n",
       "2        1900-01-01 00:55:06.200\n",
       "3        1900-01-01 00:28:03.100\n",
       "4        1900-01-01 00:52:26.200\n",
       "                   ...          \n",
       "294474   1900-01-01 00:51:57.100\n",
       "294475   1900-01-01 00:45:03.400\n",
       "294476   1900-01-01 00:20:29.000\n",
       "294477   1900-01-01 00:40:24.500\n",
       "294479   1900-01-01 00:40:24.500\n",
       "Name: timestamp, Length: 286690, dtype: datetime64[ns]"
      ]
     },
     "execution_count": 19,
     "metadata": {},
     "output_type": "execute_result"
    }
   ],
   "source": [
    "# datetime\n",
    "pd.to_datetime(df_clean['timestamp'],format='%M:%S.%f')"
   ]
  },
  {
   "cell_type": "code",
   "execution_count": 20,
   "id": "875e76ae-cccd-4922-a3fc-08c1f4c1c390",
   "metadata": {},
   "outputs": [
    {
     "data": {
      "text/plain": [
       "0         11:48.600000\n",
       "1         01:45.200000\n",
       "2         55:06.200000\n",
       "3         28:03.100000\n",
       "4         52:26.200000\n",
       "              ...     \n",
       "294474    51:57.100000\n",
       "294475    45:03.400000\n",
       "294476    20:29.000000\n",
       "294477    40:24.500000\n",
       "294479    40:24.500000\n",
       "Name: timestamp, Length: 286690, dtype: object"
      ]
     },
     "execution_count": 20,
     "metadata": {},
     "output_type": "execute_result"
    }
   ],
   "source": [
    "pd.to_datetime(df_clean['timestamp'],format='%M:%S.%f').dt.strftime('%M:%S.%f')"
   ]
  },
  {
   "cell_type": "code",
   "execution_count": 21,
   "id": "f20d5d64-9566-40e1-a699-4a81c443e034",
   "metadata": {},
   "outputs": [],
   "source": [
    "# (usually, we check date to make sure the time span during the A/B testing. )"
   ]
  },
  {
   "cell_type": "code",
   "execution_count": 22,
   "id": "228a0e94-3808-4004-862e-7e6aeca065a1",
   "metadata": {},
   "outputs": [
    {
     "data": {
      "text/html": [
       "<div>\n",
       "<style scoped>\n",
       "    .dataframe tbody tr th:only-of-type {\n",
       "        vertical-align: middle;\n",
       "    }\n",
       "\n",
       "    .dataframe tbody tr th {\n",
       "        vertical-align: top;\n",
       "    }\n",
       "\n",
       "    .dataframe thead th {\n",
       "        text-align: right;\n",
       "    }\n",
       "</style>\n",
       "<table border=\"1\" class=\"dataframe\">\n",
       "  <thead>\n",
       "    <tr style=\"text-align: right;\">\n",
       "      <th>landing_page</th>\n",
       "      <th>new_page</th>\n",
       "      <th>old_page</th>\n",
       "    </tr>\n",
       "    <tr>\n",
       "      <th>group</th>\n",
       "      <th></th>\n",
       "      <th></th>\n",
       "    </tr>\n",
       "  </thead>\n",
       "  <tbody>\n",
       "    <tr>\n",
       "      <th>control</th>\n",
       "      <td>0</td>\n",
       "      <td>143293</td>\n",
       "    </tr>\n",
       "    <tr>\n",
       "      <th>treatment</th>\n",
       "      <td>143397</td>\n",
       "      <td>0</td>\n",
       "    </tr>\n",
       "  </tbody>\n",
       "</table>\n",
       "</div>"
      ],
      "text/plain": [
       "landing_page  new_page  old_page\n",
       "group                           \n",
       "control              0    143293\n",
       "treatment       143397         0"
      ]
     },
     "execution_count": 22,
     "metadata": {},
     "output_type": "execute_result"
    }
   ],
   "source": [
    "# make sure the group and landing_page are matched:\n",
    "# countro -> old-page; treatment -> new_page\n",
    "pd.crosstab(df_clean['group'],df_clean['landing_page'])"
   ]
  },
  {
   "cell_type": "code",
   "execution_count": 23,
   "id": "d421dc4a-5be2-486e-8248-0197c1be03fb",
   "metadata": {},
   "outputs": [],
   "source": [
    "df_merge = pd.merge(\n",
    "    left=df_clean,\n",
    "    right=country_data,\n",
    "    how='left',\n",
    "    left_on=\"user_id\",\n",
    "    right_on=\"user_id\",\n",
    ")"
   ]
  },
  {
   "cell_type": "code",
   "execution_count": 24,
   "id": "07b86e2b-2e52-4bc2-8593-cc3abfd4c678",
   "metadata": {},
   "outputs": [
    {
     "data": {
      "text/html": [
       "<div>\n",
       "<style scoped>\n",
       "    .dataframe tbody tr th:only-of-type {\n",
       "        vertical-align: middle;\n",
       "    }\n",
       "\n",
       "    .dataframe tbody tr th {\n",
       "        vertical-align: top;\n",
       "    }\n",
       "\n",
       "    .dataframe thead th {\n",
       "        text-align: right;\n",
       "    }\n",
       "</style>\n",
       "<table border=\"1\" class=\"dataframe\">\n",
       "  <thead>\n",
       "    <tr style=\"text-align: right;\">\n",
       "      <th></th>\n",
       "      <th>user_id</th>\n",
       "      <th>timestamp</th>\n",
       "      <th>group</th>\n",
       "      <th>landing_page</th>\n",
       "      <th>converted</th>\n",
       "      <th>country</th>\n",
       "    </tr>\n",
       "  </thead>\n",
       "  <tbody>\n",
       "    <tr>\n",
       "      <th>0</th>\n",
       "      <td>851104</td>\n",
       "      <td>11:48.6</td>\n",
       "      <td>control</td>\n",
       "      <td>old_page</td>\n",
       "      <td>0</td>\n",
       "      <td>US</td>\n",
       "    </tr>\n",
       "    <tr>\n",
       "      <th>1</th>\n",
       "      <td>804228</td>\n",
       "      <td>01:45.2</td>\n",
       "      <td>control</td>\n",
       "      <td>old_page</td>\n",
       "      <td>0</td>\n",
       "      <td>US</td>\n",
       "    </tr>\n",
       "    <tr>\n",
       "      <th>2</th>\n",
       "      <td>661590</td>\n",
       "      <td>55:06.2</td>\n",
       "      <td>treatment</td>\n",
       "      <td>new_page</td>\n",
       "      <td>0</td>\n",
       "      <td>US</td>\n",
       "    </tr>\n",
       "    <tr>\n",
       "      <th>3</th>\n",
       "      <td>853541</td>\n",
       "      <td>28:03.1</td>\n",
       "      <td>treatment</td>\n",
       "      <td>new_page</td>\n",
       "      <td>0</td>\n",
       "      <td>US</td>\n",
       "    </tr>\n",
       "    <tr>\n",
       "      <th>4</th>\n",
       "      <td>864975</td>\n",
       "      <td>52:26.2</td>\n",
       "      <td>control</td>\n",
       "      <td>old_page</td>\n",
       "      <td>1</td>\n",
       "      <td>US</td>\n",
       "    </tr>\n",
       "    <tr>\n",
       "      <th>...</th>\n",
       "      <td>...</td>\n",
       "      <td>...</td>\n",
       "      <td>...</td>\n",
       "      <td>...</td>\n",
       "      <td>...</td>\n",
       "      <td>...</td>\n",
       "    </tr>\n",
       "    <tr>\n",
       "      <th>286685</th>\n",
       "      <td>945152</td>\n",
       "      <td>51:57.1</td>\n",
       "      <td>control</td>\n",
       "      <td>old_page</td>\n",
       "      <td>0</td>\n",
       "      <td>US</td>\n",
       "    </tr>\n",
       "    <tr>\n",
       "      <th>286686</th>\n",
       "      <td>734608</td>\n",
       "      <td>45:03.4</td>\n",
       "      <td>control</td>\n",
       "      <td>old_page</td>\n",
       "      <td>0</td>\n",
       "      <td>US</td>\n",
       "    </tr>\n",
       "    <tr>\n",
       "      <th>286687</th>\n",
       "      <td>697314</td>\n",
       "      <td>20:29.0</td>\n",
       "      <td>control</td>\n",
       "      <td>old_page</td>\n",
       "      <td>0</td>\n",
       "      <td>US</td>\n",
       "    </tr>\n",
       "    <tr>\n",
       "      <th>286688</th>\n",
       "      <td>715931</td>\n",
       "      <td>40:24.5</td>\n",
       "      <td>treatment</td>\n",
       "      <td>new_page</td>\n",
       "      <td>0</td>\n",
       "      <td>UK</td>\n",
       "    </tr>\n",
       "    <tr>\n",
       "      <th>286689</th>\n",
       "      <td>643532</td>\n",
       "      <td>40:24.5</td>\n",
       "      <td>treatment</td>\n",
       "      <td>new_page</td>\n",
       "      <td>0</td>\n",
       "      <td>US</td>\n",
       "    </tr>\n",
       "  </tbody>\n",
       "</table>\n",
       "<p>286690 rows × 6 columns</p>\n",
       "</div>"
      ],
      "text/plain": [
       "        user_id timestamp      group landing_page  converted country\n",
       "0        851104   11:48.6    control     old_page          0      US\n",
       "1        804228   01:45.2    control     old_page          0      US\n",
       "2        661590   55:06.2  treatment     new_page          0      US\n",
       "3        853541   28:03.1  treatment     new_page          0      US\n",
       "4        864975   52:26.2    control     old_page          1      US\n",
       "...         ...       ...        ...          ...        ...     ...\n",
       "286685   945152   51:57.1    control     old_page          0      US\n",
       "286686   734608   45:03.4    control     old_page          0      US\n",
       "286687   697314   20:29.0    control     old_page          0      US\n",
       "286688   715931   40:24.5  treatment     new_page          0      UK\n",
       "286689   643532   40:24.5  treatment     new_page          0      US\n",
       "\n",
       "[286690 rows x 6 columns]"
      ]
     },
     "execution_count": 24,
     "metadata": {},
     "output_type": "execute_result"
    }
   ],
   "source": [
    "df_merge"
   ]
  },
  {
   "cell_type": "code",
   "execution_count": 25,
   "id": "6363cd19-fa6b-454f-8bf7-f2b4f2de6091",
   "metadata": {},
   "outputs": [
    {
     "data": {
      "text/plain": [
       "US    200874\n",
       "UK     71513\n",
       "CA     14303\n",
       "Name: country, dtype: int64"
      ]
     },
     "execution_count": 25,
     "metadata": {},
     "output_type": "execute_result"
    }
   ],
   "source": [
    "df_merge.country.value_counts()"
   ]
  },
  {
   "cell_type": "code",
   "execution_count": 27,
   "id": "b76a323b-fc1a-428d-adf1-a230e79e1f56",
   "metadata": {
    "scrolled": true
   },
   "outputs": [
    {
     "data": {
      "text/html": [
       "<div>\n",
       "<style scoped>\n",
       "    .dataframe tbody tr th:only-of-type {\n",
       "        vertical-align: middle;\n",
       "    }\n",
       "\n",
       "    .dataframe tbody tr th {\n",
       "        vertical-align: top;\n",
       "    }\n",
       "\n",
       "    .dataframe thead th {\n",
       "        text-align: right;\n",
       "    }\n",
       "</style>\n",
       "<table border=\"1\" class=\"dataframe\">\n",
       "  <thead>\n",
       "    <tr style=\"text-align: right;\">\n",
       "      <th>landing_page</th>\n",
       "      <th>new_page</th>\n",
       "      <th>old_page</th>\n",
       "    </tr>\n",
       "    <tr>\n",
       "      <th>country</th>\n",
       "      <th></th>\n",
       "      <th></th>\n",
       "    </tr>\n",
       "  </thead>\n",
       "  <tbody>\n",
       "    <tr>\n",
       "      <th>CA</th>\n",
       "      <td>7209</td>\n",
       "      <td>7094</td>\n",
       "    </tr>\n",
       "    <tr>\n",
       "      <th>UK</th>\n",
       "      <td>35630</td>\n",
       "      <td>35883</td>\n",
       "    </tr>\n",
       "    <tr>\n",
       "      <th>US</th>\n",
       "      <td>100558</td>\n",
       "      <td>100316</td>\n",
       "    </tr>\n",
       "  </tbody>\n",
       "</table>\n",
       "</div>"
      ],
      "text/plain": [
       "landing_page  new_page  old_page\n",
       "country                         \n",
       "CA                7209      7094\n",
       "UK               35630     35883\n",
       "US              100558    100316"
      ]
     },
     "execution_count": 27,
     "metadata": {},
     "output_type": "execute_result"
    }
   ],
   "source": [
    "pd.crosstab(df_merge['country'],df_merge['landing_page'])"
   ]
  },
  {
   "cell_type": "markdown",
   "id": "0fa82b51-b941-4cce-a361-2529d97e6a25",
   "metadata": {},
   "source": [
    "Analysis"
   ]
  },
  {
   "cell_type": "markdown",
   "id": "5c6f60c8-b996-4377-9c08-70b4f772d5bf",
   "metadata": {
    "jp-MarkdownHeadingCollapsed": true
   },
   "source": [
    "Analysis (no layer)"
   ]
  },
  {
   "cell_type": "code",
   "execution_count": 28,
   "id": "33a897cd-18bc-4a87-b3dc-274a48f28d72",
   "metadata": {},
   "outputs": [],
   "source": [
    "ab_test = df_merge"
   ]
  },
  {
   "cell_type": "code",
   "execution_count": 29,
   "id": "23261083-f382-41f8-9480-52ce11f6d072",
   "metadata": {},
   "outputs": [
    {
     "data": {
      "text/html": [
       "<div>\n",
       "<style scoped>\n",
       "    .dataframe tbody tr th:only-of-type {\n",
       "        vertical-align: middle;\n",
       "    }\n",
       "\n",
       "    .dataframe tbody tr th {\n",
       "        vertical-align: top;\n",
       "    }\n",
       "\n",
       "    .dataframe thead th {\n",
       "        text-align: right;\n",
       "    }\n",
       "</style>\n",
       "<table border=\"1\" class=\"dataframe\">\n",
       "  <thead>\n",
       "    <tr style=\"text-align: right;\">\n",
       "      <th></th>\n",
       "      <th>user_id</th>\n",
       "      <th>timestamp</th>\n",
       "      <th>group</th>\n",
       "      <th>landing_page</th>\n",
       "      <th>converted</th>\n",
       "      <th>country</th>\n",
       "    </tr>\n",
       "  </thead>\n",
       "  <tbody>\n",
       "    <tr>\n",
       "      <th>0</th>\n",
       "      <td>851104</td>\n",
       "      <td>11:48.6</td>\n",
       "      <td>control</td>\n",
       "      <td>old_page</td>\n",
       "      <td>0</td>\n",
       "      <td>US</td>\n",
       "    </tr>\n",
       "    <tr>\n",
       "      <th>1</th>\n",
       "      <td>804228</td>\n",
       "      <td>01:45.2</td>\n",
       "      <td>control</td>\n",
       "      <td>old_page</td>\n",
       "      <td>0</td>\n",
       "      <td>US</td>\n",
       "    </tr>\n",
       "    <tr>\n",
       "      <th>2</th>\n",
       "      <td>661590</td>\n",
       "      <td>55:06.2</td>\n",
       "      <td>treatment</td>\n",
       "      <td>new_page</td>\n",
       "      <td>0</td>\n",
       "      <td>US</td>\n",
       "    </tr>\n",
       "    <tr>\n",
       "      <th>3</th>\n",
       "      <td>853541</td>\n",
       "      <td>28:03.1</td>\n",
       "      <td>treatment</td>\n",
       "      <td>new_page</td>\n",
       "      <td>0</td>\n",
       "      <td>US</td>\n",
       "    </tr>\n",
       "    <tr>\n",
       "      <th>4</th>\n",
       "      <td>864975</td>\n",
       "      <td>52:26.2</td>\n",
       "      <td>control</td>\n",
       "      <td>old_page</td>\n",
       "      <td>1</td>\n",
       "      <td>US</td>\n",
       "    </tr>\n",
       "  </tbody>\n",
       "</table>\n",
       "</div>"
      ],
      "text/plain": [
       "   user_id timestamp      group landing_page  converted country\n",
       "0   851104   11:48.6    control     old_page          0      US\n",
       "1   804228   01:45.2    control     old_page          0      US\n",
       "2   661590   55:06.2  treatment     new_page          0      US\n",
       "3   853541   28:03.1  treatment     new_page          0      US\n",
       "4   864975   52:26.2    control     old_page          1      US"
      ]
     },
     "execution_count": 29,
     "metadata": {},
     "output_type": "execute_result"
    }
   ],
   "source": [
    "ab_test.head()"
   ]
  },
  {
   "cell_type": "code",
   "execution_count": 57,
   "id": "51bb3418-6092-4248-b336-5a67d9e989c1",
   "metadata": {},
   "outputs": [],
   "source": [
    "# calculate the conversion rate and standard deviation for each group\n",
    "conversion_rate = ab_test.groupby('group')['converted'].agg([np.mean, np.std])"
   ]
  },
  {
   "cell_type": "code",
   "execution_count": 59,
   "id": "72ab869b-8d92-40ba-b0e5-4b9997af9845",
   "metadata": {},
   "outputs": [],
   "source": [
    "conversion_rate.columns = ['conversion_rate', 'std']"
   ]
  },
  {
   "cell_type": "code",
   "execution_count": 60,
   "id": "55b98728-84ef-49c4-834f-724119ed3170",
   "metadata": {},
   "outputs": [
    {
     "data": {
      "text/html": [
       "<div>\n",
       "<style scoped>\n",
       "    .dataframe tbody tr th:only-of-type {\n",
       "        vertical-align: middle;\n",
       "    }\n",
       "\n",
       "    .dataframe tbody tr th {\n",
       "        vertical-align: top;\n",
       "    }\n",
       "\n",
       "    .dataframe thead th {\n",
       "        text-align: right;\n",
       "    }\n",
       "</style>\n",
       "<table border=\"1\" class=\"dataframe\">\n",
       "  <thead>\n",
       "    <tr style=\"text-align: right;\">\n",
       "      <th></th>\n",
       "      <th>conversion_rate</th>\n",
       "      <th>std</th>\n",
       "    </tr>\n",
       "    <tr>\n",
       "      <th>group</th>\n",
       "      <th></th>\n",
       "      <th></th>\n",
       "    </tr>\n",
       "  </thead>\n",
       "  <tbody>\n",
       "    <tr>\n",
       "      <th>control</th>\n",
       "      <td>0.120173</td>\n",
       "      <td>0.325165</td>\n",
       "    </tr>\n",
       "    <tr>\n",
       "      <th>treatment</th>\n",
       "      <td>0.118726</td>\n",
       "      <td>0.323467</td>\n",
       "    </tr>\n",
       "  </tbody>\n",
       "</table>\n",
       "</div>"
      ],
      "text/plain": [
       "           conversion_rate       std\n",
       "group                               \n",
       "control           0.120173  0.325165\n",
       "treatment         0.118726  0.323467"
      ]
     },
     "execution_count": 60,
     "metadata": {},
     "output_type": "execute_result"
    }
   ],
   "source": [
    "conversion_rate"
   ]
  },
  {
   "cell_type": "code",
   "execution_count": 80,
   "id": "6909a040-851f-4a70-b2dc-d76c0377dc7b",
   "metadata": {},
   "outputs": [],
   "source": [
    "conversion_rate = conversion_rate.reset_index()"
   ]
  },
  {
   "cell_type": "code",
   "execution_count": 81,
   "id": "8f5910bf-af00-42c6-9732-8f1ee013326a",
   "metadata": {},
   "outputs": [
    {
     "name": "stdout",
     "output_type": "stream",
     "text": [
      "       group  conversion_rate       std\n",
      "0    control         0.120173  0.325165\n",
      "1  treatment         0.118726  0.323467\n"
     ]
    }
   ],
   "source": [
    "print(conversion_rate.head())"
   ]
  },
  {
   "cell_type": "code",
   "execution_count": 88,
   "id": "4ea26c01-d64a-4fe5-a42d-b1dfe18d52a3",
   "metadata": {},
   "outputs": [
    {
     "data": {
      "text/plain": [
       "<BarContainer object of 2 artists>"
      ]
     },
     "execution_count": 88,
     "metadata": {},
     "output_type": "execute_result"
    },
    {
     "data": {
      "image/png": "[encoded data removed]",
      "text/plain": [
       "<Figure size 480x360 with 1 Axes>"
      ]
     },
     "metadata": {},
     "output_type": "display_data"
    }
   ],
   "source": [
    "# visualisation\n",
    "plt.figure(figsize=(8,6), dpi=60)\n",
    "plt.bar(conversion_rate['group'], conversion_rate['conversion_rate'], yerr=conversion_rate['std'], capsize=5)"
   ]
  },
  {
   "cell_type": "code",
   "execution_count": 61,
   "id": "8b01f18b-3a17-4c68-8d8e-b581a0edb35f",
   "metadata": {},
   "outputs": [],
   "source": [
    "# Z Test\n",
    "from statsmodels.stats.proportion import proportions_ztest, proportion_confint"
   ]
  },
  {
   "cell_type": "code",
   "execution_count": 65,
   "id": "4db3128f-b662-4a83-b77a-0c5395f4f081",
   "metadata": {},
   "outputs": [],
   "source": [
    "control_result = ab_test[ab_test['group']==\"control\"]['converted']\n",
    "treatment_result = ab_test[ab_test['group']==\"treatment\"]['converted']\n",
    "n_control = control_result.count()\n",
    "n_treatment = treatment_result.count()"
   ]
  },
  {
   "cell_type": "code",
   "execution_count": 67,
   "id": "1ff3ccd4-9509-40d1-ae32-8365b9897455",
   "metadata": {},
   "outputs": [],
   "source": [
    "successes = [control_result.sum(),treatment_result.sum()] # number of users who success converted\n",
    "nobs = [n_control, n_treatment] # count of users"
   ]
  },
  {
   "cell_type": "code",
   "execution_count": 72,
   "id": "b835f701-f376-411b-867a-935674d8f875",
   "metadata": {},
   "outputs": [],
   "source": [
    "# z and p-value calculation\n",
    "z_stats, p_value = proportions_ztest(successes, nobs=nobs)"
   ]
  },
  {
   "cell_type": "code",
   "execution_count": 74,
   "id": "02cc8d2d-cc2d-4d9b-8376-10a2b7f9fff7",
   "metadata": {},
   "outputs": [],
   "source": [
    "# confidence interval calculation\n",
    "(lower_control, lower_treatment), (upper_control, upper_treatment) = proportion_confint(successes, nobs=nobs, alpha=0.05)"
   ]
  },
  {
   "cell_type": "code",
   "execution_count": 77,
   "id": "4e2e9f10-529a-4558-91f2-d8b0ae4ab7e6",
   "metadata": {},
   "outputs": [
    {
     "name": "stdout",
     "output_type": "stream",
     "text": [
      "z statistic: 1.194 \n",
      "p-value: 0.232\n",
      "95% ci for control group: [0.118, 0.122]\n",
      "95% ci for treatment group: [0.117, 0.120]\n"
     ]
    }
   ],
   "source": [
    "print(f\"z statistic: {z_stats:.3f} \")\n",
    "print(f\"p-value: {p_value:.3f}\")\n",
    "print(f\"95% ci for control group: [{lower_control:.3f}, {upper_control:.3f}]\")\n",
    "print(f\"95% ci for treatment group: [{lower_treatment:.3f}, {upper_treatment:.3f}]\")"
   ]
  },
  {
   "cell_type": "markdown",
   "id": "f02367a4-6608-49eb-adb1-2f14853937a3",
   "metadata": {},
   "source": [
    "# Analysis with country dimentsion"
   ]
  },
  {
   "cell_type": "code",
   "execution_count": 95,
   "id": "9e47762f-db32-4c22-aa63-f3d11f6ee4ca",
   "metadata": {},
   "outputs": [],
   "source": [
    "conversion_rate_country = ab_test.groupby(['country', 'group'])['converted'].agg([np.mean, np.std]).reset_index()"
   ]
  },
  {
   "cell_type": "code",
   "execution_count": 96,
   "id": "b5c77c3e-8bef-4274-b611-d22e33a1547d",
   "metadata": {},
   "outputs": [
    {
     "data": {
      "text/html": [
       "<div>\n",
       "<style scoped>\n",
       "    .dataframe tbody tr th:only-of-type {\n",
       "        vertical-align: middle;\n",
       "    }\n",
       "\n",
       "    .dataframe tbody tr th {\n",
       "        vertical-align: top;\n",
       "    }\n",
       "\n",
       "    .dataframe thead th {\n",
       "        text-align: right;\n",
       "    }\n",
       "</style>\n",
       "<table border=\"1\" class=\"dataframe\">\n",
       "  <thead>\n",
       "    <tr style=\"text-align: right;\">\n",
       "      <th></th>\n",
       "      <th>country</th>\n",
       "      <th>group</th>\n",
       "      <th>mean</th>\n",
       "      <th>std</th>\n",
       "    </tr>\n",
       "  </thead>\n",
       "  <tbody>\n",
       "    <tr>\n",
       "      <th>0</th>\n",
       "      <td>CA</td>\n",
       "      <td>control</td>\n",
       "      <td>0.118974</td>\n",
       "      <td>0.323780</td>\n",
       "    </tr>\n",
       "    <tr>\n",
       "      <th>1</th>\n",
       "      <td>CA</td>\n",
       "      <td>treatment</td>\n",
       "      <td>0.112360</td>\n",
       "      <td>0.315830</td>\n",
       "    </tr>\n",
       "    <tr>\n",
       "      <th>2</th>\n",
       "      <td>UK</td>\n",
       "      <td>control</td>\n",
       "      <td>0.119695</td>\n",
       "      <td>0.324609</td>\n",
       "    </tr>\n",
       "    <tr>\n",
       "      <th>3</th>\n",
       "      <td>UK</td>\n",
       "      <td>treatment</td>\n",
       "      <td>0.121162</td>\n",
       "      <td>0.326320</td>\n",
       "    </tr>\n",
       "    <tr>\n",
       "      <th>4</th>\n",
       "      <td>US</td>\n",
       "      <td>control</td>\n",
       "      <td>0.120429</td>\n",
       "      <td>0.325465</td>\n",
       "    </tr>\n",
       "    <tr>\n",
       "      <th>5</th>\n",
       "      <td>US</td>\n",
       "      <td>treatment</td>\n",
       "      <td>0.118320</td>\n",
       "      <td>0.322988</td>\n",
       "    </tr>\n",
       "  </tbody>\n",
       "</table>\n",
       "</div>"
      ],
      "text/plain": [
       "  country      group      mean       std\n",
       "0      CA    control  0.118974  0.323780\n",
       "1      CA  treatment  0.112360  0.315830\n",
       "2      UK    control  0.119695  0.324609\n",
       "3      UK  treatment  0.121162  0.326320\n",
       "4      US    control  0.120429  0.325465\n",
       "5      US  treatment  0.118320  0.322988"
      ]
     },
     "execution_count": 96,
     "metadata": {},
     "output_type": "execute_result"
    }
   ],
   "source": [
    "conversion_rate_country"
   ]
  },
  {
   "cell_type": "code",
   "execution_count": null,
   "id": "458e7aa7-95b7-4cbd-8952-f0272e16e4a6",
   "metadata": {},
   "outputs": [],
   "source": []
  }
 ],
 "metadata": {
  "kernelspec": {
   "display_name": "Python 3 (ipykernel)",
   "language": "python",
   "name": "python3"
  },
  "language_info": {
   "codemirror_mode": {
    "name": "ipython",
    "version": 3
   },
   "file_extension": ".py",
   "mimetype": "text/x-python",
   "name": "python",
   "nbconvert_exporter": "python",
   "pygments_lexer": "ipython3",
   "version": "3.10.1"
  }
 },
 "nbformat": 4,
 "nbformat_minor": 5
}
